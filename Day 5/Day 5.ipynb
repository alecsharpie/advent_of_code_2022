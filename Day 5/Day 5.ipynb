{
 "cells": [
  {
   "cell_type": "markdown",
   "id": "3f324dbf",
   "metadata": {},
   "source": [
    "--- Day 5: Supply Stacks ---"
   ]
  },
  {
   "cell_type": "markdown",
   "id": "683f1ba9",
   "metadata": {},
   "source": [
    "\n",
    "The expedition can depart as soon as the final supplies have been unloaded from the ships. Supplies are stored in stacks of marked crates, but because the needed supplies are buried under many other crates, the crates need to be rearranged.\n",
    "\n",
    "The ship has a giant cargo crane capable of moving crates between stacks. To ensure none of the crates get crushed or fall over, the crane operator will rearrange them in a series of carefully-planned steps. After the crates are rearranged, the desired crates will be at the top of each stack.\n",
    "\n",
    "The Elves don't want to interrupt the crane operator during this delicate procedure, but they forgot to ask her which crate will end up where, and they want to be ready to unload them as soon as possible so they can embark.\n",
    "\n",
    "They do, however, have a drawing of the starting stacks of crates and the rearrangement procedure (your puzzle input). For example:\n",
    "\n",
    "    [D]    \n",
    "[N] [C]    \n",
    "[Z] [M] [P]\n",
    " 1   2   3 \n",
    "\n",
    "move 1 from 2 to 1\n",
    "move 3 from 1 to 3\n",
    "move 2 from 2 to 1\n",
    "move 1 from 1 to 2\n",
    "In this example, there are three stacks of crates. Stack 1 contains two crates: crate Z is on the bottom, and crate N is on top. Stack 2 contains three crates; from bottom to top, they are crates M, C, and D. Finally, stack 3 contains a single crate, P.\n",
    "\n",
    "Then, the rearrangement procedure is given. In each step of the procedure, a quantity of crates is moved from one stack to a different stack. In the first step of the above rearrangement procedure, one crate is moved from stack 2 to stack 1, resulting in this configuration:\n",
    "\n",
    "[D]        \n",
    "[N] [C]    \n",
    "[Z] [M] [P]\n",
    " 1   2   3 \n",
    "In the second step, three crates are moved from stack 1 to stack 3. Crates are moved one at a time, so the first crate to be moved (D) ends up below the second and third crates:\n",
    "\n",
    "        [Z]\n",
    "        [N]\n",
    "    [C] [D]\n",
    "    [M] [P]\n",
    " 1   2   3\n",
    "Then, both crates are moved from stack 2 to stack 1. Again, because crates are moved one at a time, crate C ends up below crate M:\n",
    "\n",
    "        [Z]\n",
    "        [N]\n",
    "[M]     [D]\n",
    "[C]     [P]\n",
    " 1   2   3\n",
    "Finally, one crate is moved from stack 1 to stack 2:\n",
    "\n",
    "        [Z]\n",
    "        [N]\n",
    "        [D]\n",
    "[C] [M] [P]\n",
    " 1   2   3\n",
    "The Elves just need to know which crate will end up on top of each stack; in this example, the top crates are C in stack 1, M in stack 2, and Z in stack 3, so you should combine these together and give the Elves the message CMZ.\n",
    "\n",
    "After the rearrangement procedure completes, what crate ends up on top of each stack?"
   ]
  },
  {
   "cell_type": "code",
   "execution_count": 92,
   "id": "8f16e47b",
   "metadata": {},
   "outputs": [],
   "source": [
    "class Stack():\n",
    "    def __init__(self):\n",
    "        self._stack = []\n",
    "        \n",
    "    def push(self, item):\n",
    "        self._stack.append(item)\n",
    "        \n",
    "    def isEmpty(self):\n",
    "        return not self._stack\n",
    "\n",
    "    def pop(self):\n",
    "        if(self.isEmpty()):\n",
    "            return None\n",
    "        return self._stack.pop()"
   ]
  },
  {
   "cell_type": "code",
   "execution_count": 98,
   "id": "a16534e2",
   "metadata": {},
   "outputs": [],
   "source": [
    "# setup initial stacks structure\n",
    "\n",
    "def initial_setup():\n",
    "\n",
    "    initial_stack = open('initial.txt').readlines()\n",
    "\n",
    "    stack_location = [list(initial_stack[8]).index(str(i)) for i in range(1, 10)]\n",
    "\n",
    "    stacks = {}\n",
    "\n",
    "    for idx, location in enumerate(stack_location):\n",
    "\n",
    "        stacks[idx + 1] = Stack()\n",
    "\n",
    "        for line in initial_stack[-2::-1]:\n",
    "\n",
    "                if location <= len(line):\n",
    "                    if line[location].strip():\n",
    "                        stacks[idx + 1].push(line[location])\n",
    "                        \n",
    "    return stacks"
   ]
  },
  {
   "cell_type": "code",
   "execution_count": 94,
   "id": "836080a7",
   "metadata": {},
   "outputs": [
    {
     "data": {
      "text/plain": [
       "{1: <__main__.Stack at 0x10d469dc0>,\n",
       " 2: <__main__.Stack at 0x10d4695e0>,\n",
       " 3: <__main__.Stack at 0x10d509250>,\n",
       " 4: <__main__.Stack at 0x10d509220>,\n",
       " 5: <__main__.Stack at 0x10d5092e0>,\n",
       " 6: <__main__.Stack at 0x10d509340>,\n",
       " 7: <__main__.Stack at 0x10d5093d0>,\n",
       " 8: <__main__.Stack at 0x10d509430>,\n",
       " 9: <__main__.Stack at 0x10d509490>}"
      ]
     },
     "execution_count": 94,
     "metadata": {},
     "output_type": "execute_result"
    }
   ],
   "source": [
    "stacks"
   ]
  },
  {
   "cell_type": "code",
   "execution_count": 95,
   "id": "be0d19ff",
   "metadata": {},
   "outputs": [],
   "source": [
    "# follow the input\n",
    "for line in open('input.txt').readlines():\n",
    "    move, from_id, to_id = [int(item) for item in line.strip().split() if item.isdigit()]\n",
    "    \n",
    "    \n",
    "    for i in range(move):\n",
    "        stacks[to_id].push(stacks[from_id].pop())"
   ]
  },
  {
   "cell_type": "code",
   "execution_count": 96,
   "id": "c8ed84e4",
   "metadata": {},
   "outputs": [
    {
     "data": {
      "text/plain": [
       "'LBLVVTVLP'"
      ]
     },
     "execution_count": 96,
     "metadata": {},
     "output_type": "execute_result"
    }
   ],
   "source": [
    "''.join([stack.pop() for stack in stacks.values()])"
   ]
  },
  {
   "cell_type": "markdown",
   "id": "80849d6e",
   "metadata": {},
   "source": [
    "--- Part Two ---\n",
    "As you watch the crane operator expertly rearrange the crates, you notice the process isn't following your prediction.\n",
    "\n",
    "Some mud was covering the writing on the side of the crane, and you quickly wipe it away. The crane isn't a CrateMover 9000 - it's a CrateMover 9001.\n",
    "\n",
    "The CrateMover 9001 is notable for many new and exciting features: air conditioning, leather seats, an extra cup holder, and the ability to pick up and move multiple crates at once.\n",
    "\n",
    "Again considering the example above, the crates begin in the same configuration:\n",
    "\n",
    "    [D]    \n",
    "[N] [C]    \n",
    "[Z] [M] [P]\n",
    " 1   2   3 \n",
    "Moving a single crate from stack 2 to stack 1 behaves the same as before:\n",
    "\n",
    "[D]        \n",
    "[N] [C]    \n",
    "[Z] [M] [P]\n",
    " 1   2   3 \n",
    "However, the action of moving three crates from stack 1 to stack 3 means that those three moved crates stay in the same order, resulting in this new configuration:\n",
    "\n",
    "        [D]\n",
    "        [N]\n",
    "    [C] [Z]\n",
    "    [M] [P]\n",
    " 1   2   3\n",
    "Next, as both crates are moved from stack 2 to stack 1, they retain their order as well:\n",
    "\n",
    "        [D]\n",
    "        [N]\n",
    "[C]     [Z]\n",
    "[M]     [P]\n",
    " 1   2   3\n",
    "Finally, a single crate is still moved from stack 1 to stack 2, but now it's crate C that gets moved:\n",
    "\n",
    "        [D]\n",
    "        [N]\n",
    "        [Z]\n",
    "[M] [C] [P]\n",
    " 1   2   3\n",
    "In this example, the CrateMover 9001 has put the crates in a totally different order: MCD.\n",
    "\n",
    "Before the rearrangement process finishes, update your simulation so that the Elves know where they should stand to be ready to unload the final supplies. After the rearrangement procedure completes, what crate ends up on top of each stack?"
   ]
  },
  {
   "cell_type": "code",
   "execution_count": 111,
   "id": "5280f0ad",
   "metadata": {},
   "outputs": [],
   "source": [
    "stacks = initial_setup()"
   ]
  },
  {
   "cell_type": "code",
   "execution_count": 112,
   "id": "9c324446",
   "metadata": {},
   "outputs": [],
   "source": [
    "# follow the input\n",
    "for line in open('input.txt').readlines():\n",
    "    move, from_id, to_id = [int(item) for item in line.strip().split() if item.isdigit()]\n",
    "    \n",
    "    crates = [stacks[from_id].pop() for i in range(move)]\n",
    "    \n",
    "    for crate in crates[::-1]:\n",
    "        stacks[to_id].push(crate)"
   ]
  },
  {
   "cell_type": "code",
   "execution_count": 113,
   "id": "9557fab5",
   "metadata": {},
   "outputs": [
    {
     "data": {
      "text/plain": [
       "'TPFFBDRJD'"
      ]
     },
     "execution_count": 113,
     "metadata": {},
     "output_type": "execute_result"
    }
   ],
   "source": [
    "''.join([stack.pop() for stack in stacks.values()])"
   ]
  },
  {
   "cell_type": "markdown",
   "id": "799d39aa",
   "metadata": {},
   "source": [
    "# Alternate solution"
   ]
  },
  {
   "cell_type": "code",
   "execution_count": null,
   "id": "47c4f2b2",
   "metadata": {},
   "outputs": [],
   "source": [
    "import re\n",
    "\n",
    "stacks = {stack:\" \" for stack in range(1, 10)}\n",
    "\n",
    "basis, instructions = open(\"2022-05.txt\").read().split(\"\\n\\n\")\n",
    "\n",
    "for line in basis.splitlines()[::-1]:\n",
    "    for crate in re.finditer(\"[A-Z]\", line):\n",
    "        stacks[(crate.span()[0] + 3) // 4] += crate.group()\n",
    "\n",
    "for instruction in instructions.split(\"\\n\"):\n",
    "    count, m_from, m_to = [*map(int, re.findall(\"\\d+\", instruction))]\n",
    "    stacks[m_to] += stacks[m_from][-count:][::-1] # remove this last slice for part 2\n",
    "    stacks[m_from] = stacks[m_from][:-count]\n",
    "\n",
    "print(\"\".join(stack[-1].strip() for stack in stacks.values()))"
   ]
  },
  {
   "cell_type": "code",
   "execution_count": null,
   "id": "98e74bc6",
   "metadata": {},
   "outputs": [],
   "source": [
    "for move in moves:\n",
    "    # get the values\n",
    "    _, qty, _, start, _, destination = move.split()"
   ]
  }
 ],
 "metadata": {
  "kernelspec": {
   "display_name": "Python 3 (ipykernel)",
   "language": "python",
   "name": "python3"
  },
  "language_info": {
   "codemirror_mode": {
    "name": "ipython",
    "version": 3
   },
   "file_extension": ".py",
   "mimetype": "text/x-python",
   "name": "python",
   "nbconvert_exporter": "python",
   "pygments_lexer": "ipython3",
   "version": "3.8.6"
  }
 },
 "nbformat": 4,
 "nbformat_minor": 5
}
