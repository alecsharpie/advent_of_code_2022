{
 "cells": [
  {
   "cell_type": "markdown",
   "metadata": {},
   "source": [
    "--- Day 4: Camp Cleanup ---"
   ]
  },
  {
   "cell_type": "markdown",
   "metadata": {},
   "source": [
    "Space needs to be cleared before the last supplies can be unloaded from the ships, and so several Elves have been assigned the job of cleaning up sections of the camp. Every section has a unique ID number, and each Elf is assigned a range of section IDs.\n",
    "\n",
    "However, as some of the Elves compare their section assignments with each other, they've noticed that many of the assignments overlap. To try to quickly find overlaps and reduce duplicated effort, the Elves pair up and make a big list of the section assignments for each pair (your puzzle input).\n",
    "\n",
    "For example, consider the following list of section assignment pairs:\n",
    "\n",
    "2-4,6-8\n",
    "2-3,4-5\n",
    "5-7,7-9\n",
    "2-8,3-7\n",
    "6-6,4-6\n",
    "2-6,4-8\n",
    "For the first few pairs, this list means:\n",
    "\n",
    "Within the first pair of Elves, the first Elf was assigned sections 2-4 (sections 2, 3, and 4), while the second Elf was assigned sections 6-8 (sections 6, 7, 8).\n",
    "The Elves in the second pair were each assigned two sections.\n",
    "The Elves in the third pair were each assigned three sections: one got sections 5, 6, and 7, while the other also got 7, plus 8 and 9.\n",
    "This example list uses single-digit section IDs to make it easier to draw; your actual list might contain larger numbers. Visually, these pairs of section assignments look like this:\n",
    "\n",
    ".234.....  2-4\n",
    ".....678.  6-8\n",
    "\n",
    ".23......  2-3\n",
    "...45....  4-5\n",
    "\n",
    "....567..  5-7\n",
    "......789  7-9\n",
    "\n",
    ".2345678.  2-8\n",
    "..34567..  3-7\n",
    "\n",
    ".....6...  6-6\n",
    "...456...  4-6\n",
    "\n",
    ".23456...  2-6\n",
    "...45678.  4-8\n",
    "Some of the pairs have noticed that one of their assignments fully contains the other. For example, 2-8 fully contains 3-7, and 6-6 is fully contained by 4-6. In pairs where one assignment fully contains the other, one Elf in the pair would be exclusively cleaning sections their partner will already be cleaning, so these seem like the most in need of reconsideration. In this example, there are 2 such pairs.\n",
    "\n",
    "In how many assignment pairs does one range fully contain the other?"
   ]
  },
  {
   "cell_type": "code",
   "execution_count": 13,
   "metadata": {},
   "outputs": [
    {
     "data": {
      "text/plain": [
       "542"
      ]
     },
     "execution_count": 13,
     "metadata": {},
     "output_type": "execute_result"
    }
   ],
   "source": [
    "def check_overlap(pair):\n",
    "\n",
    "    sections = [set(range(int(section.split('-')[0]), int(section.split('-')[1])+1)) for section in pair.split(',')]\n",
    "\n",
    "    return len(set.intersection(*sections)) >= min([len(section) for section in sections])\n",
    "\n",
    "\n",
    "sum([check_overlap(line) for line in open('input.txt').read().splitlines()])"
   ]
  },
  {
   "cell_type": "code",
   "execution_count": 12,
   "metadata": {},
   "outputs": [
    {
     "data": {
      "text/plain": [
       "542"
      ]
     },
     "execution_count": 12,
     "metadata": {},
     "output_type": "execute_result"
    }
   ],
   "source": [
    "# one line\n",
    "\n",
    "sum(\n",
    "    len(\n",
    "        set.intersection(\n",
    "        *[set(range(int(section.split('-')[0]), int(section.split('-')[1])+1)) for section in pair.split(',')]\n",
    "        )\n",
    "    )\n",
    "    >= min(\n",
    "        len(section) for section in \n",
    "        [set(range(int(section.split('-')[0]), int(section.split('-')[1])+1)) for section in pair.split(',')]\n",
    "    ) \n",
    "     for pair in open('input.txt').read().splitlines())\n"
   ]
  },
  {
   "cell_type": "markdown",
   "metadata": {},
   "source": [
    "--- Part Two ---"
   ]
  },
  {
   "cell_type": "markdown",
   "metadata": {},
   "source": [
    "It seems like there is still quite a bit of duplicate work planned. Instead, the Elves would like to know the number of pairs that overlap at all.\n",
    "\n",
    "In the above example, the first two pairs (2-4,6-8 and 2-3,4-5) don't overlap, while the remaining four pairs (5-7,7-9, 2-8,3-7, 6-6,4-6, and 2-6,4-8) do overlap:\n",
    "\n",
    "5-7,7-9 overlaps in a single section, 7.\n",
    "2-8,3-7 overlaps all of the sections 3 through 7.\n",
    "6-6,4-6 overlaps in a single section, 6.\n",
    "2-6,4-8 overlaps in sections 4, 5, and 6.\n",
    "So, in this example, the number of overlapping assignment pairs is 4.\n",
    "\n",
    "In how many assignment pairs do the ranges overlap?"
   ]
  },
  {
   "cell_type": "code",
   "execution_count": 2,
   "metadata": {},
   "outputs": [
    {
     "data": {
      "text/plain": [
       "False"
      ]
     },
     "execution_count": 2,
     "metadata": {},
     "output_type": "execute_result"
    }
   ],
   "source": [
    "def check_overlap(pair):\n",
    "\n",
    "    sections = [set(range(int(section.split('-')[0]), int(section.split('-')[1])+1)) for section in pair.split(',')]\n",
    "\n",
    "    return len(set.intersection(*sections)) > 0\n",
    "\n",
    "\n",
    "check_overlap('33-92,93-93')"
   ]
  },
  {
   "cell_type": "code",
   "execution_count": 3,
   "metadata": {},
   "outputs": [
    {
     "data": {
      "text/plain": [
       "900"
      ]
     },
     "execution_count": 3,
     "metadata": {},
     "output_type": "execute_result"
    }
   ],
   "source": [
    "sum([check_overlap(line) for line in open('input.txt').read().splitlines()])"
   ]
  },
  {
   "cell_type": "code",
   "execution_count": null,
   "metadata": {},
   "outputs": [],
   "source": [
    "# Part 1\n",
    "sum(\n",
    "    (\n",
    "        all(\n",
    "            n in range(\n",
    "                eval(l)[2],\n",
    "                eval(l)[3] + 1\n",
    "            )\n",
    "            for n in range(\n",
    "                eval(l)[0],\n",
    "                eval(l)[1] + 1\n",
    "            )\n",
    "        ) or all(\n",
    "            n in range(\n",
    "                eval(l)[0],\n",
    "                eval(l)[1] + 1\n",
    "            )\n",
    "            for n in range(\n",
    "                eval(l)[2],\n",
    "                eval(l)[3] + 1\n",
    "            )\n",
    "        )\n",
    "    )\n",
    "    for l in open(\"2022-04.txt\").read().replace(\n",
    "        \"-\",\n",
    "        \",\"\n",
    "    ).split()\n",
    ")\n",
    "\n",
    "#Part 2\n",
    "sum(\n",
    "    (\n",
    "        any(\n",
    "            n in range(\n",
    "                eval(l)[2],\n",
    "                eval(l)[3] + 1\n",
    "            )\n",
    "            for n in range(\n",
    "                eval(l)[0],\n",
    "                eval(l)[1] + 1\n",
    "            )\n",
    "        ) or any(\n",
    "            n in range(\n",
    "                eval(l)[0],\n",
    "                eval(l)[1] + 1\n",
    "            )\n",
    "            for n in range(\n",
    "                eval(l)[2],\n",
    "                eval(l)[3] + 1\n",
    "            )\n",
    "        )\n",
    "    )\n",
    "    for l in open(\"2022-04.txt\").read().replace(\n",
    "        \"-\",\n",
    "        \",\"\n",
    "    ).split()\n",
    ")"
   ]
  }
 ],
 "metadata": {
  "kernelspec": {
   "display_name": "Python 3 (ipykernel)",
   "language": "python",
   "name": "python3"
  },
  "language_info": {
   "codemirror_mode": {
    "name": "ipython",
    "version": 3
   },
   "file_extension": ".py",
   "mimetype": "text/x-python",
   "name": "python",
   "nbconvert_exporter": "python",
   "pygments_lexer": "ipython3",
   "version": "3.8.6"
  },
  "vscode": {
   "interpreter": {
    "hash": "e80cf3b251128dbe2c86c59fef2605d5a5f5a07ddcd7eac38ef92afdf6a41af1"
   }
  }
 },
 "nbformat": 4,
 "nbformat_minor": 2
}
