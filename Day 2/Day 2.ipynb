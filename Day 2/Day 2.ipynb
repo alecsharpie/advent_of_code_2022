{
 "cells": [
  {
   "cell_type": "markdown",
   "id": "ab3c1667",
   "metadata": {},
   "source": [
    "--- Day 2: Rock Paper Scissors ---"
   ]
  },
  {
   "cell_type": "markdown",
   "id": "90a3371a",
   "metadata": {},
   "source": [
    "\n",
    "The Elves begin to set up camp on the beach. To decide whose tent gets to be closest to the snack storage, a giant Rock Paper Scissors tournament is already in progress.\n",
    "\n",
    "Rock Paper Scissors is a game between two players. Each game contains many rounds; in each round, the players each simultaneously choose one of Rock, Paper, or Scissors using a hand shape. Then, a winner for that round is selected: Rock defeats Scissors, Scissors defeats Paper, and Paper defeats Rock. If both players choose the same shape, the round instead ends in a draw.\n",
    "\n",
    "Appreciative of your help yesterday, one Elf gives you an encrypted strategy guide (your puzzle input) that they say will be sure to help you win. \"The first column is what your opponent is going to play: A for Rock, B for Paper, and C for Scissors. The second column--\" Suddenly, the Elf is called away to help with someone's tent.\n",
    "\n",
    "The second column, you reason, must be what you should play in response: X for Rock, Y for Paper, and Z for Scissors. Winning every time would be suspicious, so the responses must have been carefully chosen.\n",
    "\n",
    "The winner of the whole tournament is the player with the highest score. Your total score is the sum of your scores for each round. The score for a single round is the score for the shape you selected (1 for Rock, 2 for Paper, and 3 for Scissors) plus the score for the outcome of the round (0 if you lost, 3 if the round was a draw, and 6 if you won).\n",
    "\n",
    "Since you can't be sure if the Elf is trying to help you or trick you, you should calculate the score you would get if you were to follow the strategy guide.\n",
    "\n",
    "For example, suppose you were given the following strategy guide:\n",
    "\n",
    "A Y\n",
    "B X\n",
    "C Z\n",
    "This strategy guide predicts and recommends the following:\n",
    "\n",
    "In the first round, your opponent will choose Rock (A), and you should choose Paper (Y). This ends in a win for you with a score of 8 (2 because you chose Paper + 6 because you won).\n",
    "In the second round, your opponent will choose Paper (B), and you should choose Rock (X). This ends in a loss for you with a score of 1 (1 + 0).\n",
    "The third round is a draw with both players choosing Scissors, giving you a score of 3 + 3 = 6.\n",
    "In this example, if you were to follow the strategy guide, you would get a total score of 15 (8 + 1 + 6).\n",
    "\n",
    "What would your total score be if everything goes exactly according to your strategy guide?\n",
    "\n"
   ]
  },
  {
   "cell_type": "code",
   "execution_count": 68,
   "id": "f5e5349e",
   "metadata": {},
   "outputs": [],
   "source": [
    "# A for Rock, B for Paper, and C for Scissors\n",
    "\n",
    "# X for Rock, Y for Paper, and Z for Scissors\n",
    "\n",
    "# 1 for Rock, 2 for Paper, and 3 for Scissors\n",
    "\n",
    "# 0 if you lost, 3 if the round was a draw, and 6 if you won"
   ]
  },
  {
   "cell_type": "code",
   "execution_count": 92,
   "id": "2f6c96b0",
   "metadata": {},
   "outputs": [],
   "source": [
    "def parse_game(game):\n",
    "    \n",
    "    them = game.split(' ')[0]\n",
    "    you = game.split(' ')[1]\n",
    "    \n",
    "    return them, you\n",
    "\n",
    "games_list = [parse_game(game.strip()) for game in open(\"input.txt\").readlines()]"
   ]
  },
  {
   "cell_type": "code",
   "execution_count": 93,
   "id": "c4fdc754",
   "metadata": {},
   "outputs": [],
   "source": [
    "def get_shape_score(game):\n",
    "    \n",
    "    score_map = {'X': 1,\n",
    "            'Y': 2,\n",
    "            'Z': 3}\n",
    "    \n",
    "    return score_map[game[1]]\n",
    "    \n",
    "\n",
    "def get_outcome_score(game):\n",
    "    \n",
    "    them, you = game[0], game[1]\n",
    "    \n",
    "    if them == 'A' and you == 'Z':\n",
    "        return 0\n",
    "    \n",
    "    elif them == 'B' and you == 'X':\n",
    "        return 0\n",
    "    \n",
    "    elif them == 'C' and you == 'Y':\n",
    "        return 0\n",
    "    \n",
    "    elif them == 'A' and you == 'Y':\n",
    "        return 6\n",
    "    \n",
    "    elif them == 'B' and you == 'Z':\n",
    "        return 6\n",
    "    \n",
    "    elif them == 'C' and you == 'X':\n",
    "        return 6\n",
    "    \n",
    "    else:\n",
    "        return 3"
   ]
  },
  {
   "cell_type": "code",
   "execution_count": 94,
   "id": "26f22ccf",
   "metadata": {},
   "outputs": [
    {
     "data": {
      "text/plain": [
       "15337"
      ]
     },
     "execution_count": 94,
     "metadata": {},
     "output_type": "execute_result"
    }
   ],
   "source": [
    "sum([get_shape_score(game) + get_outcome_score(game) for game in games_list])"
   ]
  },
  {
   "cell_type": "markdown",
   "id": "d4801eb2",
   "metadata": {},
   "source": [
    "--- Part Two ---"
   ]
  },
  {
   "cell_type": "markdown",
   "id": "914446a6",
   "metadata": {},
   "source": [
    "The Elf finishes helping with the tent and sneaks back over to you. \"Anyway, the second column says how the round needs to end: X means you need to lose, Y means you need to end the round in a draw, and Z means you need to win. Good luck!\"\n",
    "\n",
    "The total score is still calculated in the same way, but now you need to figure out what shape to choose so the round ends as indicated. The example above now goes like this:\n",
    "\n",
    "In the first round, your opponent will choose Rock (A), and you need the round to end in a draw (Y), so you also choose Rock. This gives you a score of 1 + 3 = 4.\n",
    "In the second round, your opponent will choose Paper (B), and you choose Rock so you lose (X) with a score of 1 + 0 = 1.\n",
    "In the third round, you will defeat your opponent's Scissors with Rock for a score of 1 + 6 = 7.\n",
    "Now that you're correctly decrypting the ultra top secret strategy guide, you would get a total score of 12.\n",
    "\n",
    "Following the Elf's instructions for the second column, what would your total score be if everything goes exactly according to your strategy guide?\n",
    "\n"
   ]
  },
  {
   "cell_type": "code",
   "execution_count": 95,
   "id": "797c45b0",
   "metadata": {},
   "outputs": [],
   "source": [
    "# X means you need to lose, Y means you need to end the round in a draw, and Z means you need to win\n",
    "\n",
    "def get_shape_score(game):\n",
    "    \n",
    "    them, outcome = game[0], game[1]\n",
    "    \n",
    "    if them == 'A' and outcome == 'Z':\n",
    "        return 2\n",
    "    \n",
    "    elif them == 'B' and outcome == 'X':\n",
    "        return 1\n",
    "    \n",
    "    elif them == 'C' and outcome == 'Y':\n",
    "        return 3\n",
    "    \n",
    "    elif them == 'A' and outcome == 'Y':\n",
    "        return 1\n",
    "    \n",
    "    elif them == 'B' and outcome == 'Z':\n",
    "        return 3\n",
    "    \n",
    "    elif them == 'C' and outcome == 'X':\n",
    "        return 2\n",
    "    \n",
    "    elif them == 'A' and outcome == 'X':\n",
    "        return 3\n",
    "    \n",
    "    elif them == 'B' and outcome == 'Y':\n",
    "        return 2\n",
    "    \n",
    "    elif them == 'C' and outcome == 'Z':\n",
    "        return 1\n",
    "    \n",
    "\n",
    "def get_outcome_score(game):\n",
    "    \n",
    "    score_map = {'X': 0,\n",
    "            'Y': 3,\n",
    "            'Z': 6}\n",
    "    \n",
    "    return score_map[game[1]]\n",
    "    "
   ]
  },
  {
   "cell_type": "code",
   "execution_count": 96,
   "id": "c06555e8",
   "metadata": {},
   "outputs": [
    {
     "data": {
      "text/plain": [
       "11696"
      ]
     },
     "execution_count": 96,
     "metadata": {},
     "output_type": "execute_result"
    }
   ],
   "source": [
    "sum([get_shape_score(game) + get_outcome_score(game) for game in games_list])"
   ]
  },
  {
   "cell_type": "markdown",
   "id": "713c4164",
   "metadata": {},
   "source": [
    "# Other Solutions"
   ]
  },
  {
   "cell_type": "code",
   "execution_count": 81,
   "id": "72af15d9",
   "metadata": {},
   "outputs": [
    {
     "name": "stdout",
     "output_type": "stream",
     "text": [
      "15337\n",
      "11696\n"
     ]
    }
   ],
   "source": [
    "# nice solution\n",
    "\n",
    "games_list = [line.strip() for line in open(\"input.txt\").readlines()]\n",
    "\n",
    "mapping_1 = {\n",
    "    'A X': 1 + 3,\n",
    "    'B X': 1 + 0,\n",
    "    'C X': 1 + 6,\n",
    "    'A Y': 2 + 6,\n",
    "    'B Y': 2 + 3,\n",
    "    'C Y': 2 + 0,\n",
    "    'A Z': 3 + 0,\n",
    "    'B Z': 3 + 6,\n",
    "    'C Z': 3 + 3\n",
    "}\n",
    "\n",
    "mapping_2 = {\n",
    "    'A X': 3 + 0,\n",
    "    'B X': 1 + 0,\n",
    "    'C X': 2 + 0,\n",
    "    'A Y': 1 + 3,\n",
    "    'B Y': 2 + 3,\n",
    "    'C Y': 3 + 3,\n",
    "    'A Z': 2 + 6,\n",
    "    'B Z': 3 + 6,\n",
    "    'C Z': 1 + 6\n",
    "}\n",
    "\n",
    "print(sum([mapping_1[x] for x in games_list]))\n",
    "print(sum([mapping_2[x] for x in games_list]))"
   ]
  },
  {
   "cell_type": "code",
   "execution_count": 79,
   "id": "4df1e3aa",
   "metadata": {},
   "outputs": [
    {
     "data": {
      "text/plain": [
       "11696"
      ]
     },
     "execution_count": 79,
     "metadata": {},
     "output_type": "execute_result"
    }
   ],
   "source": [
    "# one line solutions\n",
    "\n",
    "# part 1\n",
    "sum(((ord(g[2]) - ord(g[0]) - 1) % 3) * 3 + ord(g[2]) - 87 for g in open(\"input.txt\").readlines())\n",
    "\n",
    "# part 2\n",
    "sum((ord(g[0]) + ord(g[2]) - 151) % 3 + 1 + (ord(g[2]) - 88) * 3 for g in open(\"input.txt\").readlines())"
   ]
  },
  {
   "cell_type": "code",
   "execution_count": 82,
   "id": "2cd93e03",
   "metadata": {},
   "outputs": [
    {
     "name": "stdout",
     "output_type": "stream",
     "text": [
      "15337\n"
     ]
    }
   ],
   "source": [
    "# custom class w overloading\n",
    "\n",
    "class RPS:\n",
    "    def __init__(self, sign: str):\n",
    "        conv = {\n",
    "            'A':'rock',\n",
    "            'B':'paper',\n",
    "            'C':'scissors',\n",
    "            'X':'rock',\n",
    "            'Y':'paper',\n",
    "            'Z':'scissors'\n",
    "        }\n",
    "        self.sign = conv[sign]\n",
    "\n",
    "    def __eq__(self, other):\n",
    "        \"\"\"Overload ==\"\"\"\n",
    "        if self.sign == other.sign:\n",
    "            return True\n",
    "        return False\n",
    "\n",
    "    def __gt__(self, other):\n",
    "        \"\"\"Overload >\"\"\"\n",
    "        if self.sign == 'rock' and other.sign == 'scissors':\n",
    "            return True\n",
    "        if self.sign == 'scissors' and other.sign == 'paper':\n",
    "            return True\n",
    "        if self.sign == 'paper' and other.sign == 'rock':\n",
    "            return True\n",
    "        return False\n",
    "\n",
    "    def score(self):\n",
    "        scores = {\n",
    "            'rock':1,\n",
    "            'paper':2,\n",
    "            'scissors':3\n",
    "        }\n",
    "        return scores[self.sign]\n",
    "\n",
    "with open(\"input.txt\") as f:\n",
    "    inp = f.read().splitlines()\n",
    "\n",
    "pairs = [x.split(\" \") for x in inp]\n",
    "\n",
    "# Part 1\n",
    "total = 0\n",
    "for pair in pairs:\n",
    "    opponent = RPS(pair[0])\n",
    "    you = RPS(pair[1])\n",
    "    if opponent == you:\n",
    "        total += 3\n",
    "    elif you > opponent:\n",
    "        total += 6\n",
    "    total += you.score()\n",
    "print(total)"
   ]
  },
  {
   "cell_type": "code",
   "execution_count": 83,
   "id": "69ca902c",
   "metadata": {},
   "outputs": [
    {
     "name": "stdout",
     "output_type": "stream",
     "text": [
      "15337 11696\n"
     ]
    }
   ],
   "source": [
    "# https://www.reddit.com/r/adventofcode/comments/zac2v2/comment/iylda9n/\n",
    "# lookup because every combination returns a unique score\n",
    "\n",
    "f = lambda x: ('  BXCYAZAXBYCZCXAYBZ'.index(x[0]+x[2]),\n",
    "               '  BXCXAXAYBYCYCZAZBZ'.index(x[0]+x[2]))\n",
    "\n",
    "print(*[sum(x)//2 for x in zip(*map(f, open('input.txt')))])"
   ]
  },
  {
   "cell_type": "code",
   "execution_count": null,
   "id": "dc8cf51b",
   "metadata": {},
   "outputs": [],
   "source": []
  }
 ],
 "metadata": {
  "kernelspec": {
   "display_name": "Python 3 (ipykernel)",
   "language": "python",
   "name": "python3"
  },
  "language_info": {
   "codemirror_mode": {
    "name": "ipython",
    "version": 3
   },
   "file_extension": ".py",
   "mimetype": "text/x-python",
   "name": "python",
   "nbconvert_exporter": "python",
   "pygments_lexer": "ipython3",
   "version": "3.8.6"
  }
 },
 "nbformat": 4,
 "nbformat_minor": 5
}
